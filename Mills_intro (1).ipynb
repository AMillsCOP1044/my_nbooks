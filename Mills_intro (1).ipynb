{
 "cells": [
  {
   "cell_type": "markdown",
   "id": "53bdcdfb-dc93-4c52-ae3c-3fd22d69b42a",
   "metadata": {},
   "source": [
    "# A.Mills Notebook1"
   ]
  },
  {
   "cell_type": "markdown",
   "id": "1de819bf-0424-4274-a688-60c28770fc27",
   "metadata": {},
   "source": [
    "## Angela Mills"
   ]
  },
  {
   "cell_type": "code",
   "execution_count": 3,
   "id": "3bbe267c-69f1-4636-99a0-8b163ab4a2c1",
   "metadata": {},
   "outputs": [],
   "source": [
    "import random\n",
    "nums = [random.randint(30, 100) for _ in range(40)]"
   ]
  },
  {
   "cell_type": "code",
   "execution_count": 4,
   "id": "d7932e70-81d4-4591-a97a-8ac42ae49e49",
   "metadata": {},
   "outputs": [
    {
     "name": "stdout",
     "output_type": "stream",
     "text": [
      "32,32,35,36,36,38,39,41,42,44,49,53,53,54,56,59,59,59,60,60,66,67,68,74,75,76,77,77,77,78,81,81,83,84,85,88,89,95,96,98\n"
     ]
    }
   ],
   "source": [
    "nums.sort()\n",
    "print(','.join(map(str, nums)))\n"
   ]
  },
  {
   "cell_type": "markdown",
   "id": "f21e8c10-1cbf-4c6c-ad0c-ad0c9563ddad",
   "metadata": {},
   "source": [
    "## The Sample Mean\n",
    "The sample mean is calculated by:\n",
    "    Suming all the numbers in a dataset\n",
    "    Dividing the sum by the total count of numbers"
   ]
  },
  {
   "cell_type": "markdown",
   "id": "6c11c01e-fb89-403f-93e8-b787859e7550",
   "metadata": {},
   "source": [
    "$\\overline{x} = \\frac{\\sum x_{i}}{n}$"
   ]
  },
  {
   "cell_type": "code",
   "execution_count": 7,
   "id": "b1a7c4c1-16bc-42a2-9405-deae2d48c990",
   "metadata": {},
   "outputs": [
    {
     "name": "stdout",
     "output_type": "stream",
     "text": [
      "The sample mean is: 63.80\n"
     ]
    }
   ],
   "source": [
    "sample_mean = sum(nums) / len(nums)\n",
    "print(f'The sample mean is: {sample_mean:.2f}')\n"
   ]
  },
  {
   "cell_type": "markdown",
   "id": "6aadfefe-e4d2-48c6-b9c3-025db32cc01e",
   "metadata": {},
   "source": [
    "## The Median\n",
    "https://www.statisticshowto.com/probability-and-statistics/statistics-definitions/median/"
   ]
  },
  {
   "cell_type": "code",
   "execution_count": 9,
   "id": "e1fb2762-0b2b-40e6-a488-a9fdef99eee0",
   "metadata": {},
   "outputs": [
    {
     "name": "stdout",
     "output_type": "stream",
     "text": [
      "The median is: 63.0\n"
     ]
    }
   ],
   "source": [
    "# To calculate the median of an even number of values,\n",
    "# find the number in between the two.\n",
    "\n",
    "import statistics\n",
    "\n",
    "median = statistics.median(nums)\n",
    "print(f'The median is: {median:.1f}')"
   ]
  },
  {
   "cell_type": "code",
   "execution_count": null,
   "id": "0c0068de-4eb5-4361-a8b9-53c354a8f834",
   "metadata": {},
   "outputs": [],
   "source": []
  }
 ],
 "metadata": {
  "kernelspec": {
   "display_name": "Python 3 (ipykernel)",
   "language": "python",
   "name": "python3"
  },
  "language_info": {
   "codemirror_mode": {
    "name": "ipython",
    "version": 3
   },
   "file_extension": ".py",
   "mimetype": "text/x-python",
   "name": "python",
   "nbconvert_exporter": "python",
   "pygments_lexer": "ipython3",
   "version": "3.12.4"
  }
 },
 "nbformat": 4,
 "nbformat_minor": 5
}
